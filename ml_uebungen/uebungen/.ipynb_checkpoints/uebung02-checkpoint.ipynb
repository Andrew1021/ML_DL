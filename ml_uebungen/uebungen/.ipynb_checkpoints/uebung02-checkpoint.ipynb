{
 "cells": [
  {
   "cell_type": "markdown",
   "metadata": {
    "collapsed": true,
    "pycharm": {
     "name": "#%% md\n"
    }
   },
   "source": [
    "# ML : Übung 2 Hauptkomponentenanalyse\n",
    "-----------------------------------\n"
   ]
  },
  {
   "cell_type": "markdown",
   "metadata": {},
   "source": [
    "# 1. Implementierung der Hauptkomponentenanalyse"
   ]
  },
  {
   "cell_type": "markdown",
   "metadata": {},
   "source": [
    ">###    Einbinden der Packages\n",
    "Import zweier Standardpakete für die Datenanalyse: Numpy für mehrdimensionale Arrays, Pandas für Datenanalyse in Tabellen."
   ]
  },
  {
   "cell_type": "code",
   "execution_count": 1,
   "metadata": {
    "pycharm": {
     "name": "#%%\n"
    }
   },
   "outputs": [
    {
     "name": "stdout",
     "output_type": "stream",
     "text": [
      "Requirement already satisfied: pandas in /home/ekrem/.pyenv/versions/3.6.12/envs/htwg-ml/lib/python3.6/site-packages (1.1.3)\n",
      "Requirement already satisfied: numpy in /home/ekrem/.pyenv/versions/3.6.12/envs/htwg-ml/lib/python3.6/site-packages (1.19.2)\n",
      "Requirement already satisfied: wget in /home/ekrem/.pyenv/versions/3.6.12/envs/htwg-ml/lib/python3.6/site-packages (3.2)\n",
      "Requirement already satisfied: matplotlib in /home/ekrem/.pyenv/versions/3.6.12/envs/htwg-ml/lib/python3.6/site-packages (3.3.2)\n",
      "Requirement already satisfied: sklearn in /home/ekrem/.pyenv/versions/3.6.12/envs/htwg-ml/lib/python3.6/site-packages (0.0)\n",
      "Requirement already satisfied: pytz>=2017.2 in /home/ekrem/.pyenv/versions/3.6.12/envs/htwg-ml/lib/python3.6/site-packages (from pandas) (2020.1)\n",
      "Requirement already satisfied: python-dateutil>=2.7.3 in /home/ekrem/.pyenv/versions/3.6.12/envs/htwg-ml/lib/python3.6/site-packages (from pandas) (2.8.1)\n",
      "Requirement already satisfied: kiwisolver>=1.0.1 in /home/ekrem/.pyenv/versions/3.6.12/envs/htwg-ml/lib/python3.6/site-packages (from matplotlib) (1.2.0)\n",
      "Requirement already satisfied: certifi>=2020.06.20 in /home/ekrem/.pyenv/versions/3.6.12/envs/htwg-ml/lib/python3.6/site-packages (from matplotlib) (2020.6.20)\n",
      "Requirement already satisfied: cycler>=0.10 in /home/ekrem/.pyenv/versions/3.6.12/envs/htwg-ml/lib/python3.6/site-packages (from matplotlib) (0.10.0)\n",
      "Requirement already satisfied: pyparsing!=2.0.4,!=2.1.2,!=2.1.6,>=2.0.3 in /home/ekrem/.pyenv/versions/3.6.12/envs/htwg-ml/lib/python3.6/site-packages (from matplotlib) (2.4.7)\n",
      "Requirement already satisfied: pillow>=6.2.0 in /home/ekrem/.pyenv/versions/3.6.12/envs/htwg-ml/lib/python3.6/site-packages (from matplotlib) (8.0.0)\n",
      "Requirement already satisfied: scikit-learn in /home/ekrem/.pyenv/versions/3.6.12/envs/htwg-ml/lib/python3.6/site-packages (from sklearn) (0.23.2)\n",
      "Requirement already satisfied: six>=1.5 in /home/ekrem/.pyenv/versions/3.6.12/envs/htwg-ml/lib/python3.6/site-packages (from python-dateutil>=2.7.3->pandas) (1.15.0)\n",
      "Requirement already satisfied: threadpoolctl>=2.0.0 in /home/ekrem/.pyenv/versions/3.6.12/envs/htwg-ml/lib/python3.6/site-packages (from scikit-learn->sklearn) (2.1.0)\n",
      "Requirement already satisfied: joblib>=0.11 in /home/ekrem/.pyenv/versions/3.6.12/envs/htwg-ml/lib/python3.6/site-packages (from scikit-learn->sklearn) (0.17.0)\n",
      "Requirement already satisfied: scipy>=0.19.1 in /home/ekrem/.pyenv/versions/3.6.12/envs/htwg-ml/lib/python3.6/site-packages (from scikit-learn->sklearn) (1.5.3)\n"
     ]
    }
   ],
   "source": [
    "!pip install pandas numpy wget matplotlib sklearn\n",
    "\n",
    "import pandas as pd\n",
    "import numpy as np\n",
    "import matplotlib\n",
    "import os\n",
    "import wget\n",
    "from sklearn import preprocessing\n",
    "\n",
    "#np.__version__, pd.__version__"
   ]
  },
  {
   "cell_type": "markdown",
   "metadata": {},
   "source": [
    ">## Einlesen der Data\n",
    "Im ersten Schritt werden die Daten eingelesen.\n",
    ">### Direkter Download\n",
    "Direkter Download vom ics.uci.de,\n",
    "automatischer Import in Pandas-Dataframe,\n",
    "Abruf des Downloaddatums."
   ]
  },
  {
   "cell_type": "code",
   "execution_count": 2,
   "metadata": {
    "pycharm": {
     "name": "#%%\n"
    }
   },
   "outputs": [
    {
     "data": {
      "text/plain": [
       "['Mo 26. Okt 08:45:42 CET 2020']"
      ]
     },
     "execution_count": 2,
     "metadata": {},
     "output_type": "execute_result"
    }
   ],
   "source": [
    "url    = 'https://archive.ics.uci.edu/ml/machine-learning-databases/housing/housing.data'\n",
    "cols   = ['CRIM','ZN','INDUS','CHAS','NOX','RM','AGE','DIS','RAD','TAX','PTRATIO','B','LSTAT','TGT']\n",
    "dateDownloaded = !date #Calling Linux\n",
    "dateDownloaded"
   ]
  },
  {
   "cell_type": "markdown",
   "metadata": {},
   "source": [
    ">## Caching der Daten\n",
    "Da der Datensatz größer ist wird zuerst ein caching der Daten durchgeführt."
   ]
  },
  {
   "cell_type": "code",
   "execution_count": 3,
   "metadata": {
    "pycharm": {
     "name": "#%%\n"
    }
   },
   "outputs": [
    {
     "name": "stdout",
     "output_type": "stream",
     "text": [
      "File exists\n",
      "\n"
     ]
    }
   ],
   "source": [
    "if not os.path.isfile('housing.data'):\n",
    "    print(\"Downloading file...\\n\")\n",
    "    wget.download('https://archive.ics.uci.edu/ml/machine-learning-databases/housing/housing.data', 'housing.data')\n",
    "else:\n",
    "    print(\"File exists\\n\")\n",
    "# !ls -11"
   ]
  },
  {
   "cell_type": "markdown",
   "metadata": {},
   "source": [
    "## Vorverarbeitung"
   ]
  },
  {
   "cell_type": "code",
   "execution_count": 4,
   "metadata": {
    "pycharm": {
     "name": "#%%\n"
    }
   },
   "outputs": [
    {
     "data": {
      "text/html": [
       "<div>\n",
       "<style scoped>\n",
       "    .dataframe tbody tr th:only-of-type {\n",
       "        vertical-align: middle;\n",
       "    }\n",
       "\n",
       "    .dataframe tbody tr th {\n",
       "        vertical-align: top;\n",
       "    }\n",
       "\n",
       "    .dataframe thead th {\n",
       "        text-align: right;\n",
       "    }\n",
       "</style>\n",
       "<table border=\"1\" class=\"dataframe\">\n",
       "  <thead>\n",
       "    <tr style=\"text-align: right;\">\n",
       "      <th></th>\n",
       "      <th>CRIM</th>\n",
       "      <th>ZN</th>\n",
       "      <th>INDUS</th>\n",
       "      <th>CHAS</th>\n",
       "      <th>NOX</th>\n",
       "      <th>RM</th>\n",
       "      <th>AGE</th>\n",
       "      <th>DIS</th>\n",
       "      <th>RAD</th>\n",
       "      <th>TAX</th>\n",
       "      <th>PTRATIO</th>\n",
       "      <th>B</th>\n",
       "      <th>LSTAT</th>\n",
       "      <th>TGT</th>\n",
       "    </tr>\n",
       "  </thead>\n",
       "  <tbody>\n",
       "    <tr>\n",
       "      <th>0</th>\n",
       "      <td>0.00632</td>\n",
       "      <td>18.0</td>\n",
       "      <td>2.31</td>\n",
       "      <td>0</td>\n",
       "      <td>0.538</td>\n",
       "      <td>6.575</td>\n",
       "      <td>65.2</td>\n",
       "      <td>4.0900</td>\n",
       "      <td>1</td>\n",
       "      <td>296.0</td>\n",
       "      <td>15.3</td>\n",
       "      <td>396.90</td>\n",
       "      <td>4.98</td>\n",
       "      <td>24.0</td>\n",
       "    </tr>\n",
       "    <tr>\n",
       "      <th>1</th>\n",
       "      <td>0.02731</td>\n",
       "      <td>0.0</td>\n",
       "      <td>7.07</td>\n",
       "      <td>0</td>\n",
       "      <td>0.469</td>\n",
       "      <td>6.421</td>\n",
       "      <td>78.9</td>\n",
       "      <td>4.9671</td>\n",
       "      <td>2</td>\n",
       "      <td>242.0</td>\n",
       "      <td>17.8</td>\n",
       "      <td>396.90</td>\n",
       "      <td>9.14</td>\n",
       "      <td>21.6</td>\n",
       "    </tr>\n",
       "    <tr>\n",
       "      <th>2</th>\n",
       "      <td>0.02729</td>\n",
       "      <td>0.0</td>\n",
       "      <td>7.07</td>\n",
       "      <td>0</td>\n",
       "      <td>0.469</td>\n",
       "      <td>7.185</td>\n",
       "      <td>61.1</td>\n",
       "      <td>4.9671</td>\n",
       "      <td>2</td>\n",
       "      <td>242.0</td>\n",
       "      <td>17.8</td>\n",
       "      <td>392.83</td>\n",
       "      <td>4.03</td>\n",
       "      <td>34.7</td>\n",
       "    </tr>\n",
       "    <tr>\n",
       "      <th>3</th>\n",
       "      <td>0.03237</td>\n",
       "      <td>0.0</td>\n",
       "      <td>2.18</td>\n",
       "      <td>0</td>\n",
       "      <td>0.458</td>\n",
       "      <td>6.998</td>\n",
       "      <td>45.8</td>\n",
       "      <td>6.0622</td>\n",
       "      <td>3</td>\n",
       "      <td>222.0</td>\n",
       "      <td>18.7</td>\n",
       "      <td>394.63</td>\n",
       "      <td>2.94</td>\n",
       "      <td>33.4</td>\n",
       "    </tr>\n",
       "    <tr>\n",
       "      <th>4</th>\n",
       "      <td>0.06905</td>\n",
       "      <td>0.0</td>\n",
       "      <td>2.18</td>\n",
       "      <td>0</td>\n",
       "      <td>0.458</td>\n",
       "      <td>7.147</td>\n",
       "      <td>54.2</td>\n",
       "      <td>6.0622</td>\n",
       "      <td>3</td>\n",
       "      <td>222.0</td>\n",
       "      <td>18.7</td>\n",
       "      <td>396.90</td>\n",
       "      <td>5.33</td>\n",
       "      <td>36.2</td>\n",
       "    </tr>\n",
       "    <tr>\n",
       "      <th>...</th>\n",
       "      <td>...</td>\n",
       "      <td>...</td>\n",
       "      <td>...</td>\n",
       "      <td>...</td>\n",
       "      <td>...</td>\n",
       "      <td>...</td>\n",
       "      <td>...</td>\n",
       "      <td>...</td>\n",
       "      <td>...</td>\n",
       "      <td>...</td>\n",
       "      <td>...</td>\n",
       "      <td>...</td>\n",
       "      <td>...</td>\n",
       "      <td>...</td>\n",
       "    </tr>\n",
       "    <tr>\n",
       "      <th>501</th>\n",
       "      <td>0.06263</td>\n",
       "      <td>0.0</td>\n",
       "      <td>11.93</td>\n",
       "      <td>0</td>\n",
       "      <td>0.573</td>\n",
       "      <td>6.593</td>\n",
       "      <td>69.1</td>\n",
       "      <td>2.4786</td>\n",
       "      <td>1</td>\n",
       "      <td>273.0</td>\n",
       "      <td>21.0</td>\n",
       "      <td>391.99</td>\n",
       "      <td>9.67</td>\n",
       "      <td>22.4</td>\n",
       "    </tr>\n",
       "    <tr>\n",
       "      <th>502</th>\n",
       "      <td>0.04527</td>\n",
       "      <td>0.0</td>\n",
       "      <td>11.93</td>\n",
       "      <td>0</td>\n",
       "      <td>0.573</td>\n",
       "      <td>6.120</td>\n",
       "      <td>76.7</td>\n",
       "      <td>2.2875</td>\n",
       "      <td>1</td>\n",
       "      <td>273.0</td>\n",
       "      <td>21.0</td>\n",
       "      <td>396.90</td>\n",
       "      <td>9.08</td>\n",
       "      <td>20.6</td>\n",
       "    </tr>\n",
       "    <tr>\n",
       "      <th>503</th>\n",
       "      <td>0.06076</td>\n",
       "      <td>0.0</td>\n",
       "      <td>11.93</td>\n",
       "      <td>0</td>\n",
       "      <td>0.573</td>\n",
       "      <td>6.976</td>\n",
       "      <td>91.0</td>\n",
       "      <td>2.1675</td>\n",
       "      <td>1</td>\n",
       "      <td>273.0</td>\n",
       "      <td>21.0</td>\n",
       "      <td>396.90</td>\n",
       "      <td>5.64</td>\n",
       "      <td>23.9</td>\n",
       "    </tr>\n",
       "    <tr>\n",
       "      <th>504</th>\n",
       "      <td>0.10959</td>\n",
       "      <td>0.0</td>\n",
       "      <td>11.93</td>\n",
       "      <td>0</td>\n",
       "      <td>0.573</td>\n",
       "      <td>6.794</td>\n",
       "      <td>89.3</td>\n",
       "      <td>2.3889</td>\n",
       "      <td>1</td>\n",
       "      <td>273.0</td>\n",
       "      <td>21.0</td>\n",
       "      <td>393.45</td>\n",
       "      <td>6.48</td>\n",
       "      <td>22.0</td>\n",
       "    </tr>\n",
       "    <tr>\n",
       "      <th>505</th>\n",
       "      <td>0.04741</td>\n",
       "      <td>0.0</td>\n",
       "      <td>11.93</td>\n",
       "      <td>0</td>\n",
       "      <td>0.573</td>\n",
       "      <td>6.030</td>\n",
       "      <td>80.8</td>\n",
       "      <td>2.5050</td>\n",
       "      <td>1</td>\n",
       "      <td>273.0</td>\n",
       "      <td>21.0</td>\n",
       "      <td>396.90</td>\n",
       "      <td>7.88</td>\n",
       "      <td>11.9</td>\n",
       "    </tr>\n",
       "  </tbody>\n",
       "</table>\n",
       "<p>506 rows × 14 columns</p>\n",
       "</div>"
      ],
      "text/plain": [
       "        CRIM    ZN  INDUS  CHAS    NOX     RM   AGE     DIS  RAD    TAX  \\\n",
       "0    0.00632  18.0   2.31     0  0.538  6.575  65.2  4.0900    1  296.0   \n",
       "1    0.02731   0.0   7.07     0  0.469  6.421  78.9  4.9671    2  242.0   \n",
       "2    0.02729   0.0   7.07     0  0.469  7.185  61.1  4.9671    2  242.0   \n",
       "3    0.03237   0.0   2.18     0  0.458  6.998  45.8  6.0622    3  222.0   \n",
       "4    0.06905   0.0   2.18     0  0.458  7.147  54.2  6.0622    3  222.0   \n",
       "..       ...   ...    ...   ...    ...    ...   ...     ...  ...    ...   \n",
       "501  0.06263   0.0  11.93     0  0.573  6.593  69.1  2.4786    1  273.0   \n",
       "502  0.04527   0.0  11.93     0  0.573  6.120  76.7  2.2875    1  273.0   \n",
       "503  0.06076   0.0  11.93     0  0.573  6.976  91.0  2.1675    1  273.0   \n",
       "504  0.10959   0.0  11.93     0  0.573  6.794  89.3  2.3889    1  273.0   \n",
       "505  0.04741   0.0  11.93     0  0.573  6.030  80.8  2.5050    1  273.0   \n",
       "\n",
       "     PTRATIO       B  LSTAT   TGT  \n",
       "0       15.3  396.90   4.98  24.0  \n",
       "1       17.8  396.90   9.14  21.6  \n",
       "2       17.8  392.83   4.03  34.7  \n",
       "3       18.7  394.63   2.94  33.4  \n",
       "4       18.7  396.90   5.33  36.2  \n",
       "..       ...     ...    ...   ...  \n",
       "501     21.0  391.99   9.67  22.4  \n",
       "502     21.0  396.90   9.08  20.6  \n",
       "503     21.0  396.90   5.64  23.9  \n",
       "504     21.0  393.45   6.48  22.0  \n",
       "505     21.0  396.90   7.88  11.9  \n",
       "\n",
       "[506 rows x 14 columns]"
      ]
     },
     "execution_count": 4,
     "metadata": {},
     "output_type": "execute_result"
    }
   ],
   "source": [
    "boston = pd.read_csv(url , sep=' ', skipinitialspace=True , header=None ,names=cols , index_col=False)\n",
    "\n",
    "if boston.isna().values.any():\n",
    "    boston = boston.dropna()\n",
    "\n",
    "if boston.duplicated().any():\n",
    "    boston = boston.drop_duplicates()\n",
    "\n",
    "boston"
   ]
  },
  {
   "cell_type": "markdown",
   "metadata": {},
   "source": [
    "### Zentrierung"
   ]
  },
  {
   "cell_type": "code",
   "execution_count": 5,
   "metadata": {
    "pycharm": {
     "name": "#%%\n"
    }
   },
   "outputs": [
    {
     "data": {
      "text/html": [
       "<div>\n",
       "<style scoped>\n",
       "    .dataframe tbody tr th:only-of-type {\n",
       "        vertical-align: middle;\n",
       "    }\n",
       "\n",
       "    .dataframe tbody tr th {\n",
       "        vertical-align: top;\n",
       "    }\n",
       "\n",
       "    .dataframe thead th {\n",
       "        text-align: right;\n",
       "    }\n",
       "</style>\n",
       "<table border=\"1\" class=\"dataframe\">\n",
       "  <thead>\n",
       "    <tr style=\"text-align: right;\">\n",
       "      <th></th>\n",
       "      <th>CRIM</th>\n",
       "      <th>ZN</th>\n",
       "      <th>INDUS</th>\n",
       "      <th>CHAS</th>\n",
       "      <th>NOX</th>\n",
       "      <th>RM</th>\n",
       "      <th>AGE</th>\n",
       "      <th>DIS</th>\n",
       "      <th>RAD</th>\n",
       "      <th>TAX</th>\n",
       "      <th>PTRATIO</th>\n",
       "      <th>B</th>\n",
       "      <th>LSTAT</th>\n",
       "      <th>TGT</th>\n",
       "    </tr>\n",
       "  </thead>\n",
       "  <tbody>\n",
       "    <tr>\n",
       "      <th>0</th>\n",
       "      <td>-3.607204</td>\n",
       "      <td>6.636364</td>\n",
       "      <td>-8.826779</td>\n",
       "      <td>-0.06917</td>\n",
       "      <td>-0.016695</td>\n",
       "      <td>0.290366</td>\n",
       "      <td>-3.374901</td>\n",
       "      <td>0.294957</td>\n",
       "      <td>-8.549407</td>\n",
       "      <td>-112.237154</td>\n",
       "      <td>-3.155534</td>\n",
       "      <td>40.225968</td>\n",
       "      <td>-7.673063</td>\n",
       "      <td>1.467194</td>\n",
       "    </tr>\n",
       "    <tr>\n",
       "      <th>1</th>\n",
       "      <td>-3.586214</td>\n",
       "      <td>-11.363636</td>\n",
       "      <td>-4.066779</td>\n",
       "      <td>-0.06917</td>\n",
       "      <td>-0.085695</td>\n",
       "      <td>0.136366</td>\n",
       "      <td>10.325099</td>\n",
       "      <td>1.172057</td>\n",
       "      <td>-7.549407</td>\n",
       "      <td>-166.237154</td>\n",
       "      <td>-0.655534</td>\n",
       "      <td>40.225968</td>\n",
       "      <td>-3.513063</td>\n",
       "      <td>-0.932806</td>\n",
       "    </tr>\n",
       "    <tr>\n",
       "      <th>2</th>\n",
       "      <td>-3.586234</td>\n",
       "      <td>-11.363636</td>\n",
       "      <td>-4.066779</td>\n",
       "      <td>-0.06917</td>\n",
       "      <td>-0.085695</td>\n",
       "      <td>0.900366</td>\n",
       "      <td>-7.474901</td>\n",
       "      <td>1.172057</td>\n",
       "      <td>-7.549407</td>\n",
       "      <td>-166.237154</td>\n",
       "      <td>-0.655534</td>\n",
       "      <td>36.155968</td>\n",
       "      <td>-8.623063</td>\n",
       "      <td>12.167194</td>\n",
       "    </tr>\n",
       "    <tr>\n",
       "      <th>3</th>\n",
       "      <td>-3.581154</td>\n",
       "      <td>-11.363636</td>\n",
       "      <td>-8.956779</td>\n",
       "      <td>-0.06917</td>\n",
       "      <td>-0.096695</td>\n",
       "      <td>0.713366</td>\n",
       "      <td>-22.774901</td>\n",
       "      <td>2.267157</td>\n",
       "      <td>-6.549407</td>\n",
       "      <td>-186.237154</td>\n",
       "      <td>0.244466</td>\n",
       "      <td>37.955968</td>\n",
       "      <td>-9.713063</td>\n",
       "      <td>10.867194</td>\n",
       "    </tr>\n",
       "    <tr>\n",
       "      <th>4</th>\n",
       "      <td>-3.544474</td>\n",
       "      <td>-11.363636</td>\n",
       "      <td>-8.956779</td>\n",
       "      <td>-0.06917</td>\n",
       "      <td>-0.096695</td>\n",
       "      <td>0.862366</td>\n",
       "      <td>-14.374901</td>\n",
       "      <td>2.267157</td>\n",
       "      <td>-6.549407</td>\n",
       "      <td>-186.237154</td>\n",
       "      <td>0.244466</td>\n",
       "      <td>40.225968</td>\n",
       "      <td>-7.323063</td>\n",
       "      <td>13.667194</td>\n",
       "    </tr>\n",
       "    <tr>\n",
       "      <th>...</th>\n",
       "      <td>...</td>\n",
       "      <td>...</td>\n",
       "      <td>...</td>\n",
       "      <td>...</td>\n",
       "      <td>...</td>\n",
       "      <td>...</td>\n",
       "      <td>...</td>\n",
       "      <td>...</td>\n",
       "      <td>...</td>\n",
       "      <td>...</td>\n",
       "      <td>...</td>\n",
       "      <td>...</td>\n",
       "      <td>...</td>\n",
       "      <td>...</td>\n",
       "    </tr>\n",
       "    <tr>\n",
       "      <th>501</th>\n",
       "      <td>-3.550894</td>\n",
       "      <td>-11.363636</td>\n",
       "      <td>0.793221</td>\n",
       "      <td>-0.06917</td>\n",
       "      <td>0.018305</td>\n",
       "      <td>0.308366</td>\n",
       "      <td>0.525099</td>\n",
       "      <td>-1.316443</td>\n",
       "      <td>-8.549407</td>\n",
       "      <td>-135.237154</td>\n",
       "      <td>2.544466</td>\n",
       "      <td>35.315968</td>\n",
       "      <td>-2.983063</td>\n",
       "      <td>-0.132806</td>\n",
       "    </tr>\n",
       "    <tr>\n",
       "      <th>502</th>\n",
       "      <td>-3.568254</td>\n",
       "      <td>-11.363636</td>\n",
       "      <td>0.793221</td>\n",
       "      <td>-0.06917</td>\n",
       "      <td>0.018305</td>\n",
       "      <td>-0.164634</td>\n",
       "      <td>8.125099</td>\n",
       "      <td>-1.507543</td>\n",
       "      <td>-8.549407</td>\n",
       "      <td>-135.237154</td>\n",
       "      <td>2.544466</td>\n",
       "      <td>40.225968</td>\n",
       "      <td>-3.573063</td>\n",
       "      <td>-1.932806</td>\n",
       "    </tr>\n",
       "    <tr>\n",
       "      <th>503</th>\n",
       "      <td>-3.552764</td>\n",
       "      <td>-11.363636</td>\n",
       "      <td>0.793221</td>\n",
       "      <td>-0.06917</td>\n",
       "      <td>0.018305</td>\n",
       "      <td>0.691366</td>\n",
       "      <td>22.425099</td>\n",
       "      <td>-1.627543</td>\n",
       "      <td>-8.549407</td>\n",
       "      <td>-135.237154</td>\n",
       "      <td>2.544466</td>\n",
       "      <td>40.225968</td>\n",
       "      <td>-7.013063</td>\n",
       "      <td>1.367194</td>\n",
       "    </tr>\n",
       "    <tr>\n",
       "      <th>504</th>\n",
       "      <td>-3.503934</td>\n",
       "      <td>-11.363636</td>\n",
       "      <td>0.793221</td>\n",
       "      <td>-0.06917</td>\n",
       "      <td>0.018305</td>\n",
       "      <td>0.509366</td>\n",
       "      <td>20.725099</td>\n",
       "      <td>-1.406143</td>\n",
       "      <td>-8.549407</td>\n",
       "      <td>-135.237154</td>\n",
       "      <td>2.544466</td>\n",
       "      <td>36.775968</td>\n",
       "      <td>-6.173063</td>\n",
       "      <td>-0.532806</td>\n",
       "    </tr>\n",
       "    <tr>\n",
       "      <th>505</th>\n",
       "      <td>-3.566114</td>\n",
       "      <td>-11.363636</td>\n",
       "      <td>0.793221</td>\n",
       "      <td>-0.06917</td>\n",
       "      <td>0.018305</td>\n",
       "      <td>-0.254634</td>\n",
       "      <td>12.225099</td>\n",
       "      <td>-1.290043</td>\n",
       "      <td>-8.549407</td>\n",
       "      <td>-135.237154</td>\n",
       "      <td>2.544466</td>\n",
       "      <td>40.225968</td>\n",
       "      <td>-4.773063</td>\n",
       "      <td>-10.632806</td>\n",
       "    </tr>\n",
       "  </tbody>\n",
       "</table>\n",
       "<p>506 rows × 14 columns</p>\n",
       "</div>"
      ],
      "text/plain": [
       "         CRIM         ZN     INDUS     CHAS       NOX        RM        AGE  \\\n",
       "0   -3.607204   6.636364 -8.826779 -0.06917 -0.016695  0.290366  -3.374901   \n",
       "1   -3.586214 -11.363636 -4.066779 -0.06917 -0.085695  0.136366  10.325099   \n",
       "2   -3.586234 -11.363636 -4.066779 -0.06917 -0.085695  0.900366  -7.474901   \n",
       "3   -3.581154 -11.363636 -8.956779 -0.06917 -0.096695  0.713366 -22.774901   \n",
       "4   -3.544474 -11.363636 -8.956779 -0.06917 -0.096695  0.862366 -14.374901   \n",
       "..        ...        ...       ...      ...       ...       ...        ...   \n",
       "501 -3.550894 -11.363636  0.793221 -0.06917  0.018305  0.308366   0.525099   \n",
       "502 -3.568254 -11.363636  0.793221 -0.06917  0.018305 -0.164634   8.125099   \n",
       "503 -3.552764 -11.363636  0.793221 -0.06917  0.018305  0.691366  22.425099   \n",
       "504 -3.503934 -11.363636  0.793221 -0.06917  0.018305  0.509366  20.725099   \n",
       "505 -3.566114 -11.363636  0.793221 -0.06917  0.018305 -0.254634  12.225099   \n",
       "\n",
       "          DIS       RAD         TAX   PTRATIO          B     LSTAT        TGT  \n",
       "0    0.294957 -8.549407 -112.237154 -3.155534  40.225968 -7.673063   1.467194  \n",
       "1    1.172057 -7.549407 -166.237154 -0.655534  40.225968 -3.513063  -0.932806  \n",
       "2    1.172057 -7.549407 -166.237154 -0.655534  36.155968 -8.623063  12.167194  \n",
       "3    2.267157 -6.549407 -186.237154  0.244466  37.955968 -9.713063  10.867194  \n",
       "4    2.267157 -6.549407 -186.237154  0.244466  40.225968 -7.323063  13.667194  \n",
       "..        ...       ...         ...       ...        ...       ...        ...  \n",
       "501 -1.316443 -8.549407 -135.237154  2.544466  35.315968 -2.983063  -0.132806  \n",
       "502 -1.507543 -8.549407 -135.237154  2.544466  40.225968 -3.573063  -1.932806  \n",
       "503 -1.627543 -8.549407 -135.237154  2.544466  40.225968 -7.013063   1.367194  \n",
       "504 -1.406143 -8.549407 -135.237154  2.544466  36.775968 -6.173063  -0.532806  \n",
       "505 -1.290043 -8.549407 -135.237154  2.544466  40.225968 -4.773063 -10.632806  \n",
       "\n",
       "[506 rows x 14 columns]"
      ]
     },
     "execution_count": 5,
     "metadata": {},
     "output_type": "execute_result"
    }
   ],
   "source": [
    "boston_centred = boston-boston.mean()\n",
    "boston_centred"
   ]
  },
  {
   "cell_type": "markdown",
   "metadata": {},
   "source": [
    "### Normierung der Varianz"
   ]
  },
  {
   "cell_type": "code",
   "execution_count": 6,
   "metadata": {
    "pycharm": {
     "name": "#%%\n"
    }
   },
   "outputs": [
    {
     "data": {
      "text/plain": [
       "CRIM       1.00198\n",
       "ZN         1.00198\n",
       "INDUS      1.00198\n",
       "CHAS       1.00198\n",
       "NOX        1.00198\n",
       "RM         1.00198\n",
       "AGE        1.00198\n",
       "DIS        1.00198\n",
       "RAD        1.00198\n",
       "TAX        1.00198\n",
       "PTRATIO    1.00198\n",
       "B          1.00198\n",
       "LSTAT      1.00198\n",
       "TGT        1.00198\n",
       "dtype: float64"
      ]
     },
     "execution_count": 6,
     "metadata": {},
     "output_type": "execute_result"
    }
   ],
   "source": [
    "standard_scaler = preprocessing.StandardScaler()\n",
    "boston_scaled = pd.DataFrame(standard_scaler.fit_transform(boston_centred), columns=cols)\n",
    "boston_scaled.var()"
   ]
  },
  {
   "cell_type": "markdown",
   "metadata": {},
   "source": [
    "### Lösung des Eigenwertproblens anhand der Singulärwertzerlegung\n",
    " **M = U D V'**\n",
    " - **U** is an m x m real or complex unitary matrix\n",
    " - **D** is an m x n rectangular diagonal matrix with non-negative real numbers on the diagonal\n",
    " - **V** is an n x n real or complex unitary matrix\n",
    " - The number of non-zero singular values is equal to the rank of M."
   ]
  },
  {
   "cell_type": "code",
   "execution_count": 7,
   "metadata": {
    "pycharm": {
     "name": "#%%\n"
    }
   },
   "outputs": [
    {
     "data": {
      "text/plain": [
       "array([[ 2.42284451e-01, -2.45435005e-01,  3.31859746e-01,\n",
       "        -5.02713285e-03,  3.25193880e-01, -2.02816554e-01,\n",
       "         2.96976574e-01, -2.98169809e-01,  3.03412754e-01,\n",
       "         3.24033052e-01,  2.07679535e-01, -1.96638358e-01,\n",
       "         3.11397955e-01, -2.66636396e-01],\n",
       "       [-6.58731079e-02, -1.48002653e-01,  1.27075668e-01,\n",
       "         4.10668763e-01,  2.54276363e-01,  4.34005810e-01,\n",
       "         2.60303205e-01, -3.59149977e-01,  3.11495955e-02,\n",
       "         8.85140554e-03, -3.14623061e-01,  2.64810325e-02,\n",
       "        -2.01245177e-01,  4.44924411e-01],\n",
       "       [ 3.95077419e-01,  3.94545713e-01, -6.60819134e-02,\n",
       "        -1.25305293e-01, -4.64755487e-02,  3.53406095e-01,\n",
       "        -2.00823078e-01,  1.57068710e-01,  4.18510334e-01,\n",
       "         3.43232194e-01,  3.99092044e-04, -3.61375914e-01,\n",
       "        -1.61060336e-01,  1.63188735e-01],\n",
       "       [-1.00366211e-01, -3.42958421e-01,  9.62693566e-03,\n",
       "        -7.00406497e-01, -5.37075825e-02,  2.93357309e-01,\n",
       "         7.84263261e-02, -1.84747787e-01,  5.13743811e-02,\n",
       "         2.68106947e-02,  3.42036328e-01,  2.01741185e-01,\n",
       "        -2.42621217e-01,  1.80297553e-01],\n",
       "       [ 4.95765921e-03,  1.14495002e-01, -2.25836917e-02,\n",
       "        -5.35197817e-01,  1.94605570e-01, -8.32048140e-03,\n",
       "         1.49750092e-01, -1.06219480e-01, -2.30352185e-01,\n",
       "        -1.63425820e-01, -6.15707380e-01, -3.67460674e-01,\n",
       "         1.78358870e-01, -5.06598928e-02],\n",
       "       [-2.24627030e-01, -3.35746944e-01, -8.08249519e-02,\n",
       "         1.62649056e-01, -1.48991906e-01,  1.31080559e-01,\n",
       "        -6.08695963e-02,  1.16233540e-02, -1.34937322e-01,\n",
       "        -1.88471462e-01,  2.79017309e-01, -7.85907284e-01,\n",
       "        -9.19721068e-02, -5.40280379e-02],\n",
       "       [ 7.77083366e-01, -2.74178365e-01, -3.40273839e-01,\n",
       "         7.40757751e-02, -1.98092965e-01,  7.40849381e-02,\n",
       "         1.18580363e-01, -1.04397844e-01, -1.37080107e-01,\n",
       "        -3.13984433e-01,  1.48560832e-03,  7.48427805e-02,\n",
       "         8.32130826e-02, -9.96497280e-03],\n",
       "       [-1.57401402e-01,  3.80314042e-01, -1.71745781e-01,\n",
       "         3.29270041e-02, -4.74583814e-02,  4.37615662e-01,\n",
       "         5.88105687e-01,  1.28230604e-01, -7.46487153e-02,\n",
       "        -7.09921237e-02,  2.83469595e-01,  4.44417533e-02,\n",
       "         3.57482467e-01, -1.52308790e-01],\n",
       "       [ 2.54211798e-01,  3.82899480e-01,  6.27048264e-01,\n",
       "        -1.86429670e-02, -4.30243906e-02, -3.66694703e-03,\n",
       "        -4.32658224e-02, -1.75802196e-01, -4.63439397e-01,\n",
       "        -1.79446555e-01,  2.74525949e-01, -6.09756507e-02,\n",
       "        -1.71810921e-01,  7.07510826e-02],\n",
       "       [-7.13846149e-02,  2.45579673e-01, -2.54827026e-01,\n",
       "        -4.17069157e-02, -2.11620349e-01, -5.26133916e-01,\n",
       "         2.45647942e-01, -2.99412026e-01,  1.15793486e-01,\n",
       "        -8.36641308e-03,  1.60474164e-01, -1.46292237e-01,\n",
       "         6.66472668e-02,  5.75547284e-01],\n",
       "       [-7.10687807e-02, -1.27709065e-01,  2.73797614e-01,\n",
       "        -9.96840221e-03, -4.37475550e-01,  2.23951923e-01,\n",
       "        -3.29630928e-01, -1.14600078e-01,  4.22133485e-02,\n",
       "         4.27940542e-02, -9.99918413e-02,  3.91948578e-02,\n",
       "         6.83032690e-01,  2.42001064e-01],\n",
       "       [ 6.32761157e-02, -2.21122101e-01,  3.48408284e-01,\n",
       "        -1.90397469e-02, -4.49093566e-01, -1.25605540e-01,\n",
       "         4.86339045e-01,  4.93568220e-01,  1.86364119e-02,\n",
       "         1.70421793e-01, -2.32148422e-01, -4.15288525e-02,\n",
       "        -1.81892088e-01,  9.82858002e-02],\n",
       "       [ 9.70323119e-02, -1.32375830e-01,  8.37168543e-02,\n",
       "        -4.99174539e-02,  5.24974687e-01, -4.98935961e-02,\n",
       "        -5.14625621e-02,  5.52292172e-01, -6.27847431e-03,\n",
       "        -2.42987756e-01,  1.88347079e-01, -2.10781985e-02,\n",
       "         2.49489863e-01,  4.69629324e-01],\n",
       "       [ 5.91141759e-02, -9.62968067e-02, -2.35472877e-01,\n",
       "         2.34889657e-02,  8.76491484e-02,  7.19051500e-03,\n",
       "        -3.82270273e-02,  4.71240287e-02, -6.34975332e-01,\n",
       "         6.98822190e-01,  5.57381600e-02, -1.61652795e-02,\n",
       "         8.31437946e-02,  1.34127182e-01]])"
      ]
     },
     "execution_count": 7,
     "metadata": {},
     "output_type": "execute_result"
    }
   ],
   "source": [
    "U, D, Vt =  np.linalg.svd(boston_scaled)\n",
    "Vt"
   ]
  },
  {
   "cell_type": "markdown",
   "metadata": {},
   "source": [
    "Die ersten r Basisvektoren qi (d.h die ersten r Hauptkomponenten) sind die ersten r\n",
    "Spalten der orthogonalen d × d-Matrix V (or n x n)"
   ]
  },
  {
   "cell_type": "code",
   "execution_count": null,
   "metadata": {
    "pycharm": {
     "name": "#%%\n"
    }
   },
   "outputs": [],
   "source": []
  },
  {
   "cell_type": "markdown",
   "metadata": {},
   "source": []
  },
  {
   "cell_type": "markdown",
   "metadata": {},
   "source": []
  },
  {
   "cell_type": "markdown",
   "metadata": {},
   "source": []
  },
  {
   "cell_type": "markdown",
   "metadata": {},
   "source": [
    "# 3. Versionsübersicht"
   ]
  },
  {
   "cell_type": "code",
   "execution_count": 8,
   "metadata": {
    "pycharm": {
     "name": "#%%\n"
    }
   },
   "outputs": [],
   "source": [
    "# !pip install version_information\n",
    "# %reload_ext version_information\n",
    "# %version_information numpy, pandas, os, wget, zipfile, json, random"
   ]
  }
 ],
 "metadata": {
  "kernelspec": {
   "display_name": "Python 3",
   "language": "python",
   "name": "python3"
  },
  "language_info": {
   "codemirror_mode": {
    "name": "ipython",
    "version": 3
   },
   "file_extension": ".py",
   "mimetype": "text/x-python",
   "name": "python",
   "nbconvert_exporter": "python",
   "pygments_lexer": "ipython3",
   "version": "3.5.2"
  }
 },
 "nbformat": 4,
 "nbformat_minor": 1
}
