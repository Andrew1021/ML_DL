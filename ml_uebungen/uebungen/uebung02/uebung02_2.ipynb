{
 "cells": [
  {
   "cell_type": "code",
   "execution_count": 7,
   "metadata": {},
   "outputs": [],
   "source": [
    "import pandas as pd\n",
    "import numpy as np\n",
    "import os\n",
    "import wget\n",
    "import tarfile\n",
    "from sklearn import *"
   ]
  },
  {
   "cell_type": "code",
   "execution_count": 8,
   "metadata": {
    "pycharm": {
     "name": "#%%\n"
    }
   },
   "outputs": [],
   "source": [
    "url = 'http://vis-www.cs.umass.edu/lfw/lfw-funneled.tgz'\n",
    "tgz_file = 'lfw_funneled.tgz'\n",
    "images_folder = 'lfw_funneled'"
   ]
  },
  {
   "cell_type": "code",
   "execution_count": 9,
   "metadata": {
    "pycharm": {
     "name": "#%%\n"
    }
   },
   "outputs": [],
   "source": [
    "def download_file(url):\n",
    "    #\n",
    "    if not os.path.isfile(tgz_file):\n",
    "        print(\"Downloading file...\\n\")\n",
    "        wget.download(url, tgz_file)\n",
    "        # dateDownloaded = !date  # Calling Linux\n",
    "        # print(dateDownloaded)\n",
    "    return 0"
   ]
  },
  {
   "cell_type": "code",
   "execution_count": 10,
   "metadata": {
    "pycharm": {
     "name": "#%%\n"
    }
   },
   "outputs": [],
   "source": [
    "def extract():\n",
    "    try:\n",
    "        print(\"Extracting...\")\n",
    "        tar = tarfile.open(tgz_file, \"r:gz\")\n",
    "        tar.extractall()\n",
    "        tar.close()\n",
    "    except:\n",
    "        print(\"something went wrong\")"
   ]
  },
  {
   "cell_type": "code",
   "execution_count": 11,
   "metadata": {
    "pycharm": {
     "name": "#%%\n"
    }
   },
   "outputs": [],
   "source": [
    "def find_images():\n",
    "    list_of_persons = []\n",
    "    if not os.path.isdir(images_folder):\n",
    "        if not os.path.isfile(tgz_file):\n",
    "            download_file(url)\n",
    "        else:\n",
    "            print(\"tgz-File exists\")\n",
    "            extract()\n",
    "    else:\n",
    "        for folder in os.listdir(images_folder):\n",
    "            subfolder = os.path.join(images_folder, folder)\n",
    "            if os.path.isdir(subfolder):\n",
    "                count = len(os.listdir(subfolder))\n",
    "                if count >= 70:\n",
    "                    list_of_persons.append(folder)\n",
    "                    print(\"{} with {} images\".format(folder, count))"
   ]
  },
  {
   "cell_type": "code",
   "execution_count": 12,
   "metadata": {
    "pycharm": {
     "is_executing": true,
     "name": "#%%\n"
    }
   },
   "outputs": [
    {
     "name": "stdout",
     "output_type": "stream",
     "text": [
      "Ariel_Sharon with 77 images\n",
      "Colin_Powell with 236 images\n",
      "Donald_Rumsfeld with 121 images\n",
      "George_W_Bush with 530 images\n",
      "Gerhard_Schroeder with 109 images\n",
      "Hugo_Chavez with 71 images\n",
      "Tony_Blair with 144 images\n"
     ]
    }
   ],
   "source": [
    "download_file(url)\n",
    "find_images()\n",
    "\n"
   ]
  },
  {
   "cell_type": "code",
   "execution_count": null,
   "outputs": [],
   "source": [],
   "metadata": {
    "collapsed": false,
    "pycharm": {
     "name": "#%%\n"
    }
   }
  },
  {
   "cell_type": "code",
   "execution_count": null,
   "metadata": {},
   "outputs": [],
   "source": []
  }
 ],
 "metadata": {
  "kernelspec": {
   "display_name": "Python 3",
   "language": "python",
   "name": "python3"
  },
  "language_info": {
   "codemirror_mode": {
    "name": "ipython",
    "version": 3
   },
   "file_extension": ".py",
   "mimetype": "text/x-python",
   "name": "python",
   "nbconvert_exporter": "python",
   "pygments_lexer": "ipython3",
   "version": "3.6.8"
  }
 },
 "nbformat": 4,
 "nbformat_minor": 1
}