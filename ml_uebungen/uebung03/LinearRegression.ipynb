{
 "cells": [
  {
   "cell_type": "code",
   "execution_count": 1,
   "metadata": {
    "collapsed": true
   },
   "outputs": [
    {
     "name": "stdout",
     "output_type": "stream",
     "text": [
      "Requirement already satisfied: scipy in /home/ekrem/.pyenv/versions/3.6.12/envs/htwg-ml/lib/python3.6/site-packages (1.5.3)\r\n",
      "Requirement already satisfied: progressbar2 in /home/ekrem/.pyenv/versions/3.6.12/envs/htwg-ml/lib/python3.6/site-packages (3.53.1)\r\n",
      "Requirement already satisfied: numpy>=1.14.5 in /home/ekrem/.pyenv/versions/3.6.12/envs/htwg-ml/lib/python3.6/site-packages (from scipy) (1.18.5)\r\n",
      "Requirement already satisfied: six in /home/ekrem/.pyenv/versions/3.6.12/envs/htwg-ml/lib/python3.6/site-packages (from progressbar2) (1.15.0)\r\n",
      "Requirement already satisfied: python-utils>=2.3.0 in /home/ekrem/.pyenv/versions/3.6.12/envs/htwg-ml/lib/python3.6/site-packages (from progressbar2) (2.4.0)\r\n",
      "\u001B[33mWARNING: You are using pip version 20.2.4; however, version 20.3 is available.\r\n",
      "You should consider upgrading via the '/home/ekrem/.pyenv/versions/3.6.12/envs/htwg-ml/bin/python3.6 -m pip install --upgrade pip' command.\u001B[0m\r\n"
     ]
    }
   ],
   "source": [
    "!pip install scipy progressbar2\n",
    "import os\n",
    "import wget\n",
    "import numpy as np\n",
    "from sklearn.linear_model import LinearRegression\n",
    "from sklearn.metrics import mean_squared_error\n",
    "from scipy import stats\n",
    "import matplotlib.pyplot as plt\n",
    "import pandas as pd\n",
    "import progressbar\n",
    "%matplotlib inline"
   ]
  },
  {
   "cell_type": "code",
   "execution_count": 2,
   "outputs": [
    {
     "data": {
      "text/plain": "Software versions\nPython 3.6.12 64bit [GCC 9.3.0]\nIPython 7.16.1\nOS Linux 5.4.0 54 generic x86_64 with debian bullseye sid\nnumpy 1.18.5\nsklearn 0.23.2\nTue Dec 01 12:38:36 2020 CET",
      "text/html": "<table><tr><th>Software</th><th>Version</th></tr><tr><td>Python</td><td>3.6.12 64bit [GCC 9.3.0]</td></tr><tr><td>IPython</td><td>7.16.1</td></tr><tr><td>OS</td><td>Linux 5.4.0 54 generic x86_64 with debian bullseye sid</td></tr><tr><td>numpy</td><td>1.18.5</td></tr><tr><td>sklearn</td><td>0.23.2</td></tr><tr><td colspan='2'>Tue Dec 01 12:38:36 2020 CET</td></tr></table>",
      "text/latex": "\\begin{tabular}{|l|l|}\\hline\n{\\bf Software} & {\\bf Version} \\\\ \\hline\\hline\nPython & 3.6.12 64bit [GCC 9.3.0] \\\\ \\hline\nIPython & 7.16.1 \\\\ \\hline\nOS & Linux 5.4.0 54 generic x86\\_64 with debian bullseye sid \\\\ \\hline\nnumpy & 1.18.5 \\\\ \\hline\nsklearn & 0.23.2 \\\\ \\hline\n\\hline \\multicolumn{2}{|l|}{Tue Dec 01 12:38:36 2020 CET} \\\\ \\hline\n\\end{tabular}\n",
      "application/json": {
       "Software versions": [
        {
         "module": "Python",
         "version": "3.6.12 64bit [GCC 9.3.0]"
        },
        {
         "module": "IPython",
         "version": "7.16.1"
        },
        {
         "module": "OS",
         "version": "Linux 5.4.0 54 generic x86_64 with debian bullseye sid"
        },
        {
         "module": "numpy",
         "version": "1.18.5"
        },
        {
         "module": "sklearn",
         "version": "0.23.2"
        }
       ]
      }
     },
     "execution_count": 2,
     "metadata": {},
     "output_type": "execute_result"
    }
   ],
   "source": [
    "%reload_ext version_information\n",
    "%version_information numpy, sklearn"
   ],
   "metadata": {
    "collapsed": false,
    "pycharm": {
     "name": "#%%\n"
    }
   }
  },
  {
   "cell_type": "code",
   "execution_count": 3,
   "outputs": [],
   "source": [
    "fishing_file = os.path.join(os.getcwd(), 'fishing.npz')\n",
    "\n",
    "if not os.path.isfile(fishing_file):\n",
    "    print(\"Downloading file...\\n\")\n",
    "\n",
    "    wget.download('http://www-home.htwg-konstanz.de/~oduerr/data/fishing.npz', fishing_file)\n",
    "\n",
    "fishing_data = np.load(fishing_file)"
   ],
   "metadata": {
    "collapsed": false,
    "pycharm": {
     "name": "#%%\n"
    }
   }
  },
  {
   "cell_type": "code",
   "execution_count": 4,
   "outputs": [
    {
     "data": {
      "text/plain": "     livebait  camper  persons  child\n0         1.0     0.0      4.0    0.0\n1         1.0     1.0      2.0    0.0\n2         1.0     1.0      3.0    0.0\n3         1.0     1.0      3.0    2.0\n4         1.0     1.0      4.0    1.0\n..        ...     ...      ...    ...\n195       1.0     1.0      1.0    0.0\n196       1.0     1.0      1.0    0.0\n197       1.0     1.0      3.0    0.0\n198       1.0     0.0      1.0    0.0\n199       1.0     0.0      4.0    2.0\n\n[200 rows x 4 columns]",
      "text/html": "<div>\n<style scoped>\n    .dataframe tbody tr th:only-of-type {\n        vertical-align: middle;\n    }\n\n    .dataframe tbody tr th {\n        vertical-align: top;\n    }\n\n    .dataframe thead th {\n        text-align: right;\n    }\n</style>\n<table border=\"1\" class=\"dataframe\">\n  <thead>\n    <tr style=\"text-align: right;\">\n      <th></th>\n      <th>livebait</th>\n      <th>camper</th>\n      <th>persons</th>\n      <th>child</th>\n    </tr>\n  </thead>\n  <tbody>\n    <tr>\n      <th>0</th>\n      <td>1.0</td>\n      <td>0.0</td>\n      <td>4.0</td>\n      <td>0.0</td>\n    </tr>\n    <tr>\n      <th>1</th>\n      <td>1.0</td>\n      <td>1.0</td>\n      <td>2.0</td>\n      <td>0.0</td>\n    </tr>\n    <tr>\n      <th>2</th>\n      <td>1.0</td>\n      <td>1.0</td>\n      <td>3.0</td>\n      <td>0.0</td>\n    </tr>\n    <tr>\n      <th>3</th>\n      <td>1.0</td>\n      <td>1.0</td>\n      <td>3.0</td>\n      <td>2.0</td>\n    </tr>\n    <tr>\n      <th>4</th>\n      <td>1.0</td>\n      <td>1.0</td>\n      <td>4.0</td>\n      <td>1.0</td>\n    </tr>\n    <tr>\n      <th>...</th>\n      <td>...</td>\n      <td>...</td>\n      <td>...</td>\n      <td>...</td>\n    </tr>\n    <tr>\n      <th>195</th>\n      <td>1.0</td>\n      <td>1.0</td>\n      <td>1.0</td>\n      <td>0.0</td>\n    </tr>\n    <tr>\n      <th>196</th>\n      <td>1.0</td>\n      <td>1.0</td>\n      <td>1.0</td>\n      <td>0.0</td>\n    </tr>\n    <tr>\n      <th>197</th>\n      <td>1.0</td>\n      <td>1.0</td>\n      <td>3.0</td>\n      <td>0.0</td>\n    </tr>\n    <tr>\n      <th>198</th>\n      <td>1.0</td>\n      <td>0.0</td>\n      <td>1.0</td>\n      <td>0.0</td>\n    </tr>\n    <tr>\n      <th>199</th>\n      <td>1.0</td>\n      <td>0.0</td>\n      <td>4.0</td>\n      <td>2.0</td>\n    </tr>\n  </tbody>\n</table>\n<p>200 rows × 4 columns</p>\n</div>"
     },
     "execution_count": 4,
     "metadata": {},
     "output_type": "execute_result"
    }
   ],
   "source": [
    "X_train = fishing_data['Xt']    # \"livebait\", \"camper\", \"persons\", \"child\"\n",
    "y_train = fishing_data['yt']\n",
    "\n",
    "X_test = fishing_data['Xte']\n",
    "y_test = fishing_data['yte']\n",
    "\n",
    "pd.DataFrame(X_train, columns=[\"livebait\", \"camper\", \"persons\", \"child\"])"
   ],
   "metadata": {
    "collapsed": false,
    "pycharm": {
     "name": "#%%\n"
    }
   }
  },
  {
   "cell_type": "code",
   "execution_count": 5,
   "outputs": [
    {
     "data": {
      "text/plain": "     intercept  livebait  camper  persons  child\n0          1.0       1.0     0.0      4.0    0.0\n1          1.0       1.0     1.0      2.0    0.0\n2          1.0       1.0     1.0      3.0    0.0\n3          1.0       1.0     1.0      3.0    2.0\n4          1.0       1.0     1.0      4.0    1.0\n..         ...       ...     ...      ...    ...\n195        1.0       1.0     1.0      1.0    0.0\n196        1.0       1.0     1.0      1.0    0.0\n197        1.0       1.0     1.0      3.0    0.0\n198        1.0       1.0     0.0      1.0    0.0\n199        1.0       1.0     0.0      4.0    2.0\n\n[200 rows x 5 columns]",
      "text/html": "<div>\n<style scoped>\n    .dataframe tbody tr th:only-of-type {\n        vertical-align: middle;\n    }\n\n    .dataframe tbody tr th {\n        vertical-align: top;\n    }\n\n    .dataframe thead th {\n        text-align: right;\n    }\n</style>\n<table border=\"1\" class=\"dataframe\">\n  <thead>\n    <tr style=\"text-align: right;\">\n      <th></th>\n      <th>intercept</th>\n      <th>livebait</th>\n      <th>camper</th>\n      <th>persons</th>\n      <th>child</th>\n    </tr>\n  </thead>\n  <tbody>\n    <tr>\n      <th>0</th>\n      <td>1.0</td>\n      <td>1.0</td>\n      <td>0.0</td>\n      <td>4.0</td>\n      <td>0.0</td>\n    </tr>\n    <tr>\n      <th>1</th>\n      <td>1.0</td>\n      <td>1.0</td>\n      <td>1.0</td>\n      <td>2.0</td>\n      <td>0.0</td>\n    </tr>\n    <tr>\n      <th>2</th>\n      <td>1.0</td>\n      <td>1.0</td>\n      <td>1.0</td>\n      <td>3.0</td>\n      <td>0.0</td>\n    </tr>\n    <tr>\n      <th>3</th>\n      <td>1.0</td>\n      <td>1.0</td>\n      <td>1.0</td>\n      <td>3.0</td>\n      <td>2.0</td>\n    </tr>\n    <tr>\n      <th>4</th>\n      <td>1.0</td>\n      <td>1.0</td>\n      <td>1.0</td>\n      <td>4.0</td>\n      <td>1.0</td>\n    </tr>\n    <tr>\n      <th>...</th>\n      <td>...</td>\n      <td>...</td>\n      <td>...</td>\n      <td>...</td>\n      <td>...</td>\n    </tr>\n    <tr>\n      <th>195</th>\n      <td>1.0</td>\n      <td>1.0</td>\n      <td>1.0</td>\n      <td>1.0</td>\n      <td>0.0</td>\n    </tr>\n    <tr>\n      <th>196</th>\n      <td>1.0</td>\n      <td>1.0</td>\n      <td>1.0</td>\n      <td>1.0</td>\n      <td>0.0</td>\n    </tr>\n    <tr>\n      <th>197</th>\n      <td>1.0</td>\n      <td>1.0</td>\n      <td>1.0</td>\n      <td>3.0</td>\n      <td>0.0</td>\n    </tr>\n    <tr>\n      <th>198</th>\n      <td>1.0</td>\n      <td>1.0</td>\n      <td>0.0</td>\n      <td>1.0</td>\n      <td>0.0</td>\n    </tr>\n    <tr>\n      <th>199</th>\n      <td>1.0</td>\n      <td>1.0</td>\n      <td>0.0</td>\n      <td>4.0</td>\n      <td>2.0</td>\n    </tr>\n  </tbody>\n</table>\n<p>200 rows × 5 columns</p>\n</div>"
     },
     "execution_count": 5,
     "metadata": {},
     "output_type": "execute_result"
    }
   ],
   "source": [
    "X_designmatrix =  np.c_[np.ones((len(X_train), 1)), X_train]\n",
    "X_test_designmatrix =  np.c_[np.ones((len(X_test), 1)), X_test]\n",
    "\n",
    "pd.DataFrame(X_designmatrix, columns=[\"intercept\", \"livebait\", \"camper\", \"persons\", \"child\"])"
   ],
   "metadata": {
    "collapsed": false,
    "pycharm": {
     "name": "#%%\n"
    }
   }
  },
  {
   "cell_type": "markdown",
   "source": [
    "## a.) Lineare Regression wie in Vorlesung"
   ],
   "metadata": {
    "collapsed": false,
    "pycharm": {
     "name": "#%% md\n"
    }
   }
  },
  {
   "cell_type": "code",
   "execution_count": 6,
   "outputs": [
    {
     "name": "stdout",
     "output_type": "stream",
     "text": [
      "Weights: [-8.49222821  2.4822138   2.95430727  4.64953914 -5.47160051]\n"
     ]
    }
   ],
   "source": [
    "weights = np.linalg.inv(X_designmatrix.T @ X_designmatrix) @ X_designmatrix.T @ y_train\n",
    "\n",
    "print(\"Weights: {}\".format(weights))"
   ],
   "metadata": {
    "collapsed": false,
    "pycharm": {
     "name": "#%%\n"
    }
   }
  },
  {
   "cell_type": "markdown",
   "source": [
    "## b.) Lineare Regression mit sklearn"
   ],
   "metadata": {
    "collapsed": false,
    "pycharm": {
     "name": "#%% md\n"
    }
   }
  },
  {
   "cell_type": "code",
   "execution_count": 7,
   "outputs": [
    {
     "name": "stdout",
     "output_type": "stream",
     "text": [
      "Bias/Intercept: -8.492231369018555, Weights: [ 2.4822128  2.9543095  4.6495404 -5.4716005]\n"
     ]
    }
   ],
   "source": [
    "reg = LinearRegression()\n",
    "reg.fit(X_train, y_train)\n",
    "\n",
    "print(\"Bias/Intercept: {}, Weights: {}\".format(reg.intercept_, reg.coef_))"
   ],
   "metadata": {
    "collapsed": false,
    "pycharm": {
     "name": "#%%\n"
    }
   }
  },
  {
   "cell_type": "markdown",
   "source": [
    "## c.) RMSE und NLL berechnen"
   ],
   "metadata": {
    "collapsed": false,
    "pycharm": {
     "name": "#%% md\n"
    }
   }
  },
  {
   "cell_type": "code",
   "execution_count": 8,
   "outputs": [
    {
     "name": "stdout",
     "output_type": "stream",
     "text": [
      "RMSE: 8.588127136230469 - var: 73.48030853271484 - NLL: 3.567447225436254\n"
     ]
    }
   ],
   "source": [
    "y_pred = np.sum(reg.coef_.T * X_test, axis=1) + reg.intercept_\n",
    "\n",
    "rmse = mean_squared_error(y_test, y_pred, squared=False)\n",
    "\n",
    "residuals = y_test - y_pred\n",
    "var = np.var(residuals)\n",
    "mean = np.mean(residuals)\n",
    "std = np.std(residuals)\n",
    "\n",
    "cpd = [stats.norm(mean, std).pdf(residual) for residual in residuals]\n",
    "nll = -np.sum(np.log(cpd)) / len(y_test)\n",
    "\n",
    "print(\"RMSE: {} - var: {} - NLL: {}\".format(rmse, var, nll))"
   ],
   "metadata": {
    "collapsed": false,
    "pycharm": {
     "name": "#%%\n"
    }
   }
  },
  {
   "cell_type": "markdown",
   "source": [
    "## d.) Plotten"
   ],
   "metadata": {
    "collapsed": false,
    "pycharm": {
     "name": "#%% md\n"
    }
   }
  },
  {
   "cell_type": "code",
   "execution_count": 9,
   "outputs": [
    {
     "data": {
      "text/plain": "<Figure size 720x360 with 1 Axes>",
      "image/png": "[encoded data removed]"
     },
     "metadata": {
      "needs_background": "light"
     },
     "output_type": "display_data"
    }
   ],
   "source": [
    "p1 = y_pred + 1.96 * std\n",
    "p2 = y_pred - 1.96 * std\n",
    "\n",
    "fig, ax = plt.subplots(figsize=(10, 5))\n",
    "\n",
    "plt.scatter(y_pred, y_test)\n",
    "\n",
    "plt.plot(y_pred, y_pred)\n",
    "plt.plot(y_pred, p1)\n",
    "plt.plot(y_pred, p2)\n",
    "\n",
    "plt.xlabel('predicted average of caught fish')\n",
    "plt.ylabel('observed number of caught fish')\n",
    "\n",
    "plt.show()"
   ],
   "metadata": {
    "collapsed": false,
    "pycharm": {
     "name": "#%%\n"
    }
   }
  },
  {
   "cell_type": "markdown",
   "source": [
    "## e.) RMSE & NLL mit Poisson-Verteilung"
   ],
   "metadata": {
    "collapsed": false
   }
  },
  {
   "cell_type": "code",
   "execution_count": 10,
   "outputs": [
    {
     "data": {
      "text/plain": "1507.9856602262082"
     },
     "execution_count": 10,
     "metadata": {},
     "output_type": "execute_result"
    }
   ],
   "source": [
    "def nll_poisson(k, x, beta):\n",
    "    mu = np.exp(x @ beta)\n",
    "\n",
    "    values = []\n",
    "    for i in range(len(k)):\n",
    "        log_k_fact = np.log(1.0 * np.math.factorial(k[i]))\n",
    "        values.append(- mu[i] + k[i] * np.log(mu[i]) - log_k_fact)\n",
    "\n",
    "    return - np.mean(values)\n",
    "\n",
    "nll_poisson(y_train, X_designmatrix, np.ones(5))"
   ],
   "metadata": {
    "collapsed": false,
    "pycharm": {
     "name": "#%%\n"
    }
   }
  },
  {
   "cell_type": "code",
   "execution_count": 11,
   "outputs": [
    {
     "data": {
      "text/plain": "array([-1518.61304305, -1403.99474131, -1171.02247951, -5701.91224653,\n       -3258.70389229])"
     },
     "execution_count": 11,
     "metadata": {},
     "output_type": "execute_result"
    }
   ],
   "source": [
    "def nll_gradient(k, x, beta):\n",
    "    mu = np.exp(x @ beta)\n",
    "\n",
    "    values = []\n",
    "    for i in range(len(k)):\n",
    "        values.append(- mu[i] * x[i] + k[i] * x[i])\n",
    "\n",
    "    return np.mean(values, axis=0)\n",
    "\n",
    "nll_gradient(y_train, X_designmatrix, np.ones(5))"
   ],
   "metadata": {
    "collapsed": false,
    "pycharm": {
     "name": "#%%\n"
    }
   }
  },
  {
   "cell_type": "code",
   "execution_count": 12,
   "outputs": [
    {
     "name": "stderr",
     "output_type": "stream",
     "text": [
      "100% (5000 of 5000) |####################| Elapsed Time: 0:00:08 Time:  0:00:08\n"
     ]
    },
    {
     "name": "stdout",
     "output_type": "stream",
     "text": [
      "Weights: [-1.08852056  0.2597268   0.54509109  0.85448041 -1.65101241] - NLL: 3.4917536727865155\n"
     ]
    }
   ],
   "source": [
    "epochs = 5000\n",
    "learning_rate = 0.001\n",
    "\n",
    "weights = np.ones(5)\n",
    "\n",
    "for i in progressbar.progressbar(range(epochs)):\n",
    "    weights = weights + learning_rate * nll_gradient(y_train, X_designmatrix, weights)\n",
    "\n",
    "print(\"Weights: {} - NLL: {}\".format(weights, nll_poisson(y_train, X_designmatrix, weights)))"
   ],
   "metadata": {
    "collapsed": false,
    "pycharm": {
     "name": "#%%\n"
    }
   }
  },
  {
   "cell_type": "code",
   "execution_count": 13,
   "outputs": [
    {
     "name": "stdout",
     "output_type": "stream",
     "text": [
      "RMSE: 7.606839288683508 - NLL: 3.0692866711267768\n"
     ]
    }
   ],
   "source": [
    "y_pred = np.exp(X_test_designmatrix @ weights)\n",
    "\n",
    "rmse = mean_squared_error(y_test, y_pred, squared=False)\n",
    "nll = nll_poisson(y_test, X_test_designmatrix, weights)\n",
    "\n",
    "print(\"RMSE: {} - NLL: {}\".format(rmse, nll))"
   ],
   "metadata": {
    "collapsed": false,
    "pycharm": {
     "name": "#%%\n"
    }
   }
  },
  {
   "cell_type": "markdown",
   "source": [
    "## f.) Plotten"
   ],
   "metadata": {
    "collapsed": false,
    "pycharm": {
     "name": "#%% md\n"
    }
   }
  },
  {
   "cell_type": "code",
   "execution_count": 14,
   "outputs": [
    {
     "data": {
      "text/plain": "<Figure size 720x360 with 1 Axes>",
      "image/png": "[encoded data removed]"
     },
     "metadata": {
      "needs_background": "light"
     },
     "output_type": "display_data"
    }
   ],
   "source": [
    "p1 = stats.poisson.ppf(q=0.9, mu=np.sort(y_pred))\n",
    "p2 = stats.poisson.ppf(q=0.025, mu=np.sort(y_pred))\n",
    "\n",
    "fig, ax = plt.subplots(figsize=(10, 5))\n",
    "\n",
    "plt.scatter(y_pred, y_test)\n",
    "\n",
    "plt.plot(y_pred, y_pred)\n",
    "plt.plot(np.sort(y_pred), p1)\n",
    "plt.plot(np.sort(y_pred), p2)\n",
    "\n",
    "plt.xlabel('predicted average of caught fish')\n",
    "plt.ylabel('observed number of caught fish')\n",
    "\n",
    "plt.show()"
   ],
   "metadata": {
    "collapsed": false,
    "pycharm": {
     "name": "#%%\n"
    }
   }
  }
 ],
 "metadata": {
  "kernelspec": {
   "display_name": "Python 3",
   "language": "python",
   "name": "python3"
  },
  "language_info": {
   "codemirror_mode": {
    "name": "ipython",
    "version": 2
   },
   "file_extension": ".py",
   "mimetype": "text/x-python",
   "name": "python",
   "nbconvert_exporter": "python",
   "pygments_lexer": "ipython2",
   "version": "2.7.6"
  }
 },
 "nbformat": 4,
 "nbformat_minor": 0
}